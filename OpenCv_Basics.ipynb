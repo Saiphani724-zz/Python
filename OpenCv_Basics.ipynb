{
  "nbformat": 4,
  "nbformat_minor": 0,
  "metadata": {
    "colab": {
      "name": "OpenCv-Basics.ipynb",
      "version": "0.3.2",
      "provenance": [],
      "collapsed_sections": [
        "6rGqMbK3Re6H"
      ],
      "include_colab_link": true
    },
    "language_info": {
      "codemirror_mode": {
        "name": "ipython",
        "version": 3
      },
      "file_extension": ".py",
      "mimetype": "text/x-python",
      "name": "python",
      "nbconvert_exporter": "python",
      "pygments_lexer": "ipython3",
      "version": "3.6.5"
    },
    "kernelspec": {
      "display_name": "Python 3",
      "language": "python",
      "name": "python3"
    }
  },
  "cells": [
    {
      "cell_type": "markdown",
      "metadata": {
        "id": "view-in-github",
        "colab_type": "text"
      },
      "source": [
        "<a href=\"https://colab.research.google.com/github/Saiphani724/Python/blob/master/OpenCv_Basics.ipynb\" target=\"_parent\"><img src=\"https://colab.research.google.com/assets/colab-badge.svg\" alt=\"Open In Colab\"/></a>"
      ]
    },
    {
      "metadata": {
        "pycharm": {},
        "id": "jvHwroPYRe48",
        "colab_type": "code",
        "colab": {}
      },
      "cell_type": "code",
      "source": [
        "import cv2\n",
        "import numpy as np\n",
        "import matplotlib.pyplot as plt"
      ],
      "execution_count": 0,
      "outputs": []
    },
    {
      "metadata": {
        "id": "Iq_2irLwRe5A",
        "colab_type": "text"
      },
      "cell_type": "markdown",
      "source": [
        "## Opening an Image"
      ]
    },
    {
      "metadata": {
        "pycharm": {},
        "id": "JkMgdHEwRe5B",
        "colab_type": "code",
        "colab": {}
      },
      "cell_type": "code",
      "source": [
        "img = cv2.imread('D:/Edu/Artificial-Intelligence/Computer-Vision/Datasets/iris.jpg')\n",
        "\n",
        "cv2.imshow('Iris',img)\n",
        "\n",
        "# Waits till any key is pressed\n",
        "cv2.waitKey(0)               \n",
        "cv2.destroyAllWindows()"
      ],
      "execution_count": 0,
      "outputs": []
    },
    {
      "metadata": {
        "pycharm": {},
        "id": "GTMY20hvRe5E",
        "colab_type": "code",
        "colab": {}
      },
      "cell_type": "code",
      "source": [
        "img = cv2.imread('D:/Edu/Artificial-Intelligence/Computer-Vision/Datasets/iris.jpg')\n",
        "cv2.imshow('Iris',img)\n",
        "\n",
        "\n",
        "# Waits for specified delay in waitkey function (in milli seconds) for any positive integer\n",
        "cv2.waitKey(1000)              \n",
        "cv2.destroyAllWindows()"
      ],
      "execution_count": 0,
      "outputs": []
    },
    {
      "metadata": {
        "id": "qWxRenx_Re5H",
        "colab_type": "text"
      },
      "cell_type": "markdown",
      "source": [
        "## Saving an Image"
      ]
    },
    {
      "metadata": {
        "pycharm": {},
        "id": "kL_M0W7jRe5H",
        "colab_type": "code",
        "outputId": "3fa73274-98f9-4ad6-a268-84171f4b6f54",
        "colab": {}
      },
      "cell_type": "code",
      "source": [
        "cv2.imwrite('D:/Edu/Artificial-Intelligence/Computer-Vision/Datasets/Output.png',img)"
      ],
      "execution_count": 0,
      "outputs": [
        {
          "output_type": "execute_result",
          "data": {
            "text/plain": [
              "True"
            ]
          },
          "metadata": {
            "tags": []
          },
          "execution_count": 8
        }
      ]
    },
    {
      "metadata": {
        "id": "efIATep1Re5M",
        "colab_type": "text"
      },
      "cell_type": "markdown",
      "source": [
        "## Conversions"
      ]
    },
    {
      "metadata": {
        "pycharm": {},
        "id": "DABpB69oRe5N",
        "colab_type": "code",
        "colab": {}
      },
      "cell_type": "code",
      "source": [
        "img = cv2.imread('D:/Edu/Artificial-Intelligence/Computer-Vision/Datasets/iris.jpg')\n",
        "\n",
        "#This converts a Color image to a gray scaled image\n",
        "gray_img = cv2.cvtColor(img,cv2.COLOR_BGR2GRAY)\n",
        "\n",
        "cv2.imshow('Gray Scaled Image',gray_img)\n",
        "\n",
        "cv2.waitKey(0)\n",
        "cv2.destroyAllWindows()"
      ],
      "execution_count": 0,
      "outputs": []
    },
    {
      "metadata": {
        "pycharm": {},
        "id": "Z7tX_dtIRe5S",
        "colab_type": "code",
        "colab": {}
      },
      "cell_type": "code",
      "source": [
        "# This reads the iamge as a gray-scaled image\n",
        "img_read_as_gray = cv2.imread('D:/Edu/Artificial-Intelligence/Computer-Vision/Datasets/iris.jpg',0)\n",
        "cv2.imshow('Gray Scaled Image',img_read_as_gray)\n",
        "\n",
        "cv2.waitKey(0)\n",
        "cv2.destroyAllWindows()"
      ],
      "execution_count": 0,
      "outputs": []
    },
    {
      "metadata": {
        "id": "pN--TpURRe5V",
        "colab_type": "text"
      },
      "cell_type": "markdown",
      "source": [
        "#### HSV Images"
      ]
    },
    {
      "metadata": {
        "id": "Od0yQUvjRe5W",
        "colab_type": "code",
        "colab": {}
      },
      "cell_type": "code",
      "source": [
        "img = cv2.imread('D:/Edu/Artificial-Intelligence/Computer-Vision/Datasets/iris.jpg')\n",
        "\n",
        "hsv_img = cv2.cvtColor(img,cv2.COLOR_BGR2HSV)\n",
        "cv2.imshow('HSV Image',hsv_img)\n",
        "\n",
        "cv2.waitKey(0)\n",
        "cv2.destroyAllWindows()"
      ],
      "execution_count": 0,
      "outputs": []
    },
    {
      "metadata": {
        "id": "snNBdqKtRe5Y",
        "colab_type": "text"
      },
      "cell_type": "markdown",
      "source": [
        "## Accessing RGB Values"
      ]
    },
    {
      "metadata": {
        "pycharm": {},
        "id": "HJlOrbl6Re5Z",
        "colab_type": "code",
        "outputId": "f5812131-f0f8-4236-988d-19369c978d99",
        "colab": {}
      },
      "cell_type": "code",
      "source": [
        "B , G , R = img[0][0]\n",
        "print('Blue = ',B)\n",
        "print('GREEN = ',G)\n",
        "print('Red = ',R)\n"
      ],
      "execution_count": 0,
      "outputs": [
        {
          "output_type": "stream",
          "text": [
            "Blue =  101\n",
            "GREEN =  153\n",
            "Red =  153\n"
          ],
          "name": "stdout"
        }
      ]
    },
    {
      "metadata": {
        "pycharm": {},
        "id": "m14K0K0PRe5c",
        "colab_type": "code",
        "outputId": "0108cdf6-7872-42b3-b229-ee34f825902e",
        "colab": {}
      },
      "cell_type": "code",
      "source": [
        "img_read_as_gray[0][0]"
      ],
      "execution_count": 0,
      "outputs": [
        {
          "output_type": "execute_result",
          "data": {
            "text/plain": [
              "147"
            ]
          },
          "metadata": {
            "tags": []
          },
          "execution_count": 14
        }
      ]
    },
    {
      "metadata": {
        "pycharm": {},
        "id": "y7_lyzcvRe5g",
        "colab_type": "code",
        "colab": {}
      },
      "cell_type": "code",
      "source": [
        ""
      ],
      "execution_count": 0,
      "outputs": []
    },
    {
      "metadata": {
        "pycharm": {},
        "id": "pWWE-Z7pRe5i",
        "colab_type": "text"
      },
      "cell_type": "markdown",
      "source": [
        "<h1>Histograms</h1>"
      ]
    },
    {
      "metadata": {
        "pycharm": {},
        "id": "6hXS_qNzRe5j",
        "colab_type": "code",
        "colab": {}
      },
      "cell_type": "code",
      "source": [
        "path = 'D:/Edu/Artificial-Intelligence/Computer-Vision/Datasets/th.jpg'\n",
        "path1 = 'D:/Edu/Artificial-Intelligence/Computer-Vision/Datasets/img1.jpg'\n",
        "path2 = 'D:/Edu/Artificial-Intelligence/Computer-Vision/Datasets/img2.jpg'\n",
        "path3 = 'D:/Edu/Artificial-Intelligence/Computer-Vision/Datasets/images.jpg'\n",
        "img = cv2.imread(path3)\n",
        "img1 = cv2.imread(path1)\n",
        "img2 = cv2.imread(path2)"
      ],
      "execution_count": 0,
      "outputs": []
    },
    {
      "metadata": {
        "pycharm": {},
        "id": "kvPq-oLyRe5m",
        "colab_type": "code",
        "outputId": "ea5102c4-5d9a-466a-80db-6c19112f1543",
        "colab": {}
      },
      "cell_type": "code",
      "source": [
        "plt.hist(img.ravel(),256,[0,256]) ; plt.show()\n",
        "plt.close()"
      ],
      "execution_count": 0,
      "outputs": [
        {
          "output_type": "display_data",
          "data": {
            "image/png": "[encoded data removed]",
            "text/plain": [
              "<Figure size 432x288 with 1 Axes>"
            ]
          },
          "metadata": {
            "tags": []
          }
        }
      ]
    },
    {
      "metadata": {
        "pycharm": {},
        "id": "SYo-xA59Re5p",
        "colab_type": "code",
        "colab": {}
      },
      "cell_type": "code",
      "source": [
        "cv2.imshow('IMG',img)\n",
        "\n",
        "\n",
        "cv2.waitKey(0)\n",
        "cv2.destroyAllWindows()"
      ],
      "execution_count": 0,
      "outputs": []
    },
    {
      "metadata": {
        "pycharm": {},
        "id": "q-su-kJbRe5s",
        "colab_type": "code",
        "colab": {}
      },
      "cell_type": "code",
      "source": [
        "colours = ('b','g','r')\n",
        "for i,col in enumerate(colours):\n",
        "    hist = cv2.calcHist([img2,img1,img],[i],None,[256],[0,256])\n",
        "    plt.plot(hist,color=col)\n",
        "    plt.xlim([0,256])\n",
        "plt.show()"
      ],
      "execution_count": 0,
      "outputs": []
    },
    {
      "metadata": {
        "pycharm": {},
        "id": "jjBsrzRBRe5w",
        "colab_type": "text"
      },
      "cell_type": "markdown",
      "source": [
        "# Drawing"
      ]
    },
    {
      "metadata": {
        "pycharm": {},
        "id": "-BVY8ef2Re5x",
        "colab_type": "code",
        "colab": {}
      },
      "cell_type": "code",
      "source": [
        "# Line\n",
        "screen = np.zeros((300,400,3))\n",
        "img = screen\n",
        "cv2.line(img,(100,100),(300,100),(0.5,0.2,0.75),20)\n",
        "\n",
        "\n",
        "cv2.imshow(\"My Image\",img)\n",
        "cv2.waitKey(0)\n",
        "cv2.destroyAllWindows()"
      ],
      "execution_count": 0,
      "outputs": []
    },
    {
      "metadata": {
        "pycharm": {},
        "id": "yazTBjJnRe51",
        "colab_type": "code",
        "colab": {}
      },
      "cell_type": "code",
      "source": [
        "img = screen"
      ],
      "execution_count": 0,
      "outputs": []
    },
    {
      "metadata": {
        "pycharm": {},
        "id": "QqWItAiuRe55",
        "colab_type": "code",
        "colab": {}
      },
      "cell_type": "code",
      "source": [
        ""
      ],
      "execution_count": 0,
      "outputs": []
    },
    {
      "metadata": {
        "pycharm": {},
        "id": "V3H5jfUURe58",
        "colab_type": "code",
        "colab": {}
      },
      "cell_type": "code",
      "source": [
        ""
      ],
      "execution_count": 0,
      "outputs": []
    },
    {
      "metadata": {
        "pycharm": {},
        "id": "xhyYkQKJRe5_",
        "colab_type": "code",
        "colab": {}
      },
      "cell_type": "code",
      "source": [
        ""
      ],
      "execution_count": 0,
      "outputs": []
    },
    {
      "metadata": {
        "pycharm": {},
        "id": "O1UhS6uTRe6C",
        "colab_type": "code",
        "colab": {}
      },
      "cell_type": "code",
      "source": [
        ""
      ],
      "execution_count": 0,
      "outputs": []
    },
    {
      "metadata": {
        "pycharm": {},
        "id": "_2WQMHGERe6E",
        "colab_type": "code",
        "colab": {}
      },
      "cell_type": "code",
      "source": [
        ""
      ],
      "execution_count": 0,
      "outputs": []
    },
    {
      "metadata": {
        "pycharm": {},
        "id": "9RqGcAAQRe6H",
        "colab_type": "text"
      },
      "cell_type": "markdown",
      "source": [
        "# Transformations"
      ]
    },
    {
      "metadata": {
        "pycharm": {},
        "id": "6rGqMbK3Re6H",
        "colab_type": "text"
      },
      "cell_type": "markdown",
      "source": [
        "### Rotations and Translation"
      ]
    },
    {
      "metadata": {
        "id": "Qm4oYf30Re6I",
        "colab_type": "code",
        "colab": {}
      },
      "cell_type": "code",
      "source": [
        "h,w = img.shape[:2]\n",
        "img = cv2.resize(img,(2*h,h))\n",
        "\n",
        "cv2.imshow('My Image',img)\n",
        "cv2.waitKey(0)\n",
        "cv2.destroyAllWindows()"
      ],
      "execution_count": 0,
      "outputs": []
    },
    {
      "metadata": {
        "pycharm": {},
        "id": "iTatEtuRRe6K",
        "colab_type": "code",
        "colab": {}
      },
      "cell_type": "code",
      "source": [
        "h,w = img.shape[:2]\n",
        "\n",
        "trans = np.array([[1,0,h],[0,1,0]],dtype=np.float32)\n",
        "trans_img = cv2.warpAffine(img,trans,(w+2*h,2*h))\n",
        "# cv2.warpAffine(img,matrix,(width of new image,height of new image))\n",
        "\n",
        "mat = cv2.getRotationMatrix2D((h,0),270,1)\n",
        "# cv2.getRotationMatrix2D((x-center,y-center),angle,scale)\n",
        "rot_img =cv2.warpAffine(trans_img,mat,(h+w+h,2*h)) \n",
        "\n",
        "\n",
        "mat1 = cv2.getRotationMatrix2D((h+w,0),90,1)\n",
        "rot_img1 =cv2.warpAffine(trans_img,mat1,(h+w+h,2*h)) \n",
        "\n",
        "# rot_img[:h,:,:] = img\n",
        "# cv2.imshow('img',img)\n",
        "\n",
        "mat2 = cv2.getRotationMatrix2D((h+w/2,h),180,1)\n",
        "rot_img2 = cv2.warpAffine(trans_img,mat2,(h+w+h,2*h))\n",
        "\n",
        "\n",
        "ans = np.copy(rot_img)\n",
        "ans[:,w+h:,] = rot_img1[:,w+h:,]\n",
        "ans[:h,h:h+w,:] = trans_img[:h,h:h+w,:]\n",
        "ans[h:,h:h+w,:] = rot_img2[h:,h:h+w,:]\n",
        "\n",
        "\n",
        "cv2.imshow('img',ans)\n",
        "cv2.waitKey(0)\n",
        "cv2.destroyAllWindows()"
      ],
      "execution_count": 0,
      "outputs": []
    },
    {
      "metadata": {
        "colab_type": "code",
        "id": "Guv4REnPhB_n",
        "colab": {}
      },
      "cell_type": "code",
      "source": [
        ""
      ],
      "execution_count": 0,
      "outputs": []
    },
    {
      "metadata": {
        "pycharm": {},
        "colab_type": "code",
        "id": "itm5oltxhB-7",
        "colab": {}
      },
      "cell_type": "code",
      "source": [
        ""
      ],
      "execution_count": 0,
      "outputs": []
    },
    {
      "metadata": {
        "pycharm": {},
        "colab_type": "code",
        "id": "i8dXYwwUhB-k",
        "colab": {}
      },
      "cell_type": "code",
      "source": [
        ""
      ],
      "execution_count": 0,
      "outputs": []
    },
    {
      "metadata": {
        "pycharm": {},
        "colab_type": "code",
        "id": "_4QnAtA4hB-a",
        "colab": {}
      },
      "cell_type": "code",
      "source": [
        ""
      ],
      "execution_count": 0,
      "outputs": []
    },
    {
      "metadata": {
        "pycharm": {},
        "id": "bRPx9WJLRe6g",
        "colab_type": "code",
        "colab": {}
      },
      "cell_type": "code",
      "source": [
        ""
      ],
      "execution_count": 0,
      "outputs": []
    },
    {
      "metadata": {
        "pycharm": {},
        "id": "GiGo3vOYRe6j",
        "colab_type": "text"
      },
      "cell_type": "markdown",
      "source": [
        "# Thresholding"
      ]
    },
    {
      "metadata": {
        "pycharm": {},
        "id": "G1GAde1-Re6j",
        "colab_type": "code",
        "outputId": "37edf1a4-baa4-43d7-ced9-25d47caf495c",
        "colab": {}
      },
      "cell_type": "code",
      "source": [
        "dir = 'C:\\\\Users\\\\Sai\\\\Desktop\\\\AI_and_DSc\\\\Computer-Vision\\\\Datasets\\\\'\n",
        "dir1 = 'C:\\\\Users\\\\Sai\\\\Desktop\\\\AI_and_DSc\\\\LabelImg\\\\Images\\\\cars\\\\'\n",
        "file = 'iris.jpg'\n",
        "\n",
        "\n",
        "for i in range(1,21):\n",
        "    img = cv.imread(dir1+' ('+str(i)+').JPG',0)\n",
        "    threshold = 60\n",
        "    (T_value,img_th) = cv.threshold(img,threshold,255,cv.THRESH_BINARY)\n",
        "\n",
        "\n",
        "    cv.imshow(str(i),img_th)\n",
        "    cv.waitKey(0)\n",
        "    cv.destroyAllWindows()\n"
      ],
      "execution_count": 0,
      "outputs": [
        {
          "output_type": "error",
          "ename": "NameError",
          "evalue": "name 'cv' is not defined",
          "traceback": [
            "\u001b[1;31m---------------------------------------------------------------------------\u001b[0m",
            "\u001b[1;31mNameError\u001b[0m                                 Traceback (most recent call last)",
            "\u001b[1;32m<ipython-input-8-7200a8d446d7>\u001b[0m in \u001b[0;36m<module>\u001b[1;34m()\u001b[0m\n\u001b[0;32m      5\u001b[0m \u001b[1;33m\u001b[0m\u001b[0m\n\u001b[0;32m      6\u001b[0m \u001b[1;32mfor\u001b[0m \u001b[0mi\u001b[0m \u001b[1;32min\u001b[0m \u001b[0mrange\u001b[0m\u001b[1;33m(\u001b[0m\u001b[1;36m1\u001b[0m\u001b[1;33m,\u001b[0m\u001b[1;36m21\u001b[0m\u001b[1;33m)\u001b[0m\u001b[1;33m:\u001b[0m\u001b[1;33m\u001b[0m\u001b[0m\n\u001b[1;32m----> 7\u001b[1;33m     \u001b[0mimg\u001b[0m \u001b[1;33m=\u001b[0m \u001b[0mcv\u001b[0m\u001b[1;33m.\u001b[0m\u001b[0mimread\u001b[0m\u001b[1;33m(\u001b[0m\u001b[0mdir1\u001b[0m\u001b[1;33m+\u001b[0m\u001b[1;34m' ('\u001b[0m\u001b[1;33m+\u001b[0m\u001b[0mstr\u001b[0m\u001b[1;33m(\u001b[0m\u001b[0mi\u001b[0m\u001b[1;33m)\u001b[0m\u001b[1;33m+\u001b[0m\u001b[1;34m').JPG'\u001b[0m\u001b[1;33m,\u001b[0m\u001b[1;36m0\u001b[0m\u001b[1;33m)\u001b[0m\u001b[1;33m\u001b[0m\u001b[0m\n\u001b[0m\u001b[0;32m      8\u001b[0m     \u001b[0mthreshold\u001b[0m \u001b[1;33m=\u001b[0m \u001b[1;36m60\u001b[0m\u001b[1;33m\u001b[0m\u001b[0m\n\u001b[0;32m      9\u001b[0m     \u001b[1;33m(\u001b[0m\u001b[0mT_value\u001b[0m\u001b[1;33m,\u001b[0m\u001b[0mimg_th\u001b[0m\u001b[1;33m)\u001b[0m \u001b[1;33m=\u001b[0m \u001b[0mcv\u001b[0m\u001b[1;33m.\u001b[0m\u001b[0mthreshold\u001b[0m\u001b[1;33m(\u001b[0m\u001b[0mimg\u001b[0m\u001b[1;33m,\u001b[0m\u001b[0mthreshold\u001b[0m\u001b[1;33m,\u001b[0m\u001b[1;36m255\u001b[0m\u001b[1;33m,\u001b[0m\u001b[0mcv\u001b[0m\u001b[1;33m.\u001b[0m\u001b[0mTHRESH_BINARY\u001b[0m\u001b[1;33m)\u001b[0m\u001b[1;33m\u001b[0m\u001b[0m\n",
            "\u001b[1;31mNameError\u001b[0m: name 'cv' is not defined"
          ]
        }
      ]
    },
    {
      "metadata": {
        "pycharm": {},
        "id": "gUgwTtcDRe6m",
        "colab_type": "text"
      },
      "cell_type": "markdown",
      "source": [
        "# Blur"
      ]
    },
    {
      "metadata": {
        "pycharm": {},
        "id": "Um_axUSZRe6n",
        "colab_type": "code",
        "colab": {}
      },
      "cell_type": "code",
      "source": [
        ""
      ],
      "execution_count": 0,
      "outputs": []
    },
    {
      "metadata": {
        "pycharm": {},
        "id": "4PFDFPoXRe6o",
        "colab_type": "code",
        "outputId": "1c89d080-4b07-4547-f353-cb01163d500d",
        "colab": {}
      },
      "cell_type": "code",
      "source": [
        "dir = 'C:\\\\Users\\\\Sai\\\\Desktop\\\\AI_and_DSc\\\\Computer-Vision\\\\Datasets\\\\'\n",
        "file = 'iris.jpg'\n",
        "img = cv.imread(dir+file)\n",
        "\n",
        "\n",
        "matrix = 3\n",
        "blur = cv.medianBlur(img,matrix)\n",
        "cv.imshow('..',blur)\n",
        "\n",
        "cv.waitKey(0)\n",
        "cv.destroyAllWindows()\n",
        "\n"
      ],
      "execution_count": 0,
      "outputs": [
        {
          "output_type": "error",
          "ename": "NameError",
          "evalue": "name 'cv' is not defined",
          "traceback": [
            "\u001b[1;31m---------------------------------------------------------------------------\u001b[0m",
            "\u001b[1;31mNameError\u001b[0m                                 Traceback (most recent call last)",
            "\u001b[1;32m<ipython-input-7-4d3f7494e11f>\u001b[0m in \u001b[0;36m<module>\u001b[1;34m()\u001b[0m\n\u001b[0;32m      1\u001b[0m \u001b[0mdir\u001b[0m \u001b[1;33m=\u001b[0m \u001b[1;34m'C:\\\\Users\\\\Sai\\\\Desktop\\\\AI_and_DSc\\\\Computer-Vision\\\\Datasets\\\\'\u001b[0m\u001b[1;33m\u001b[0m\u001b[0m\n\u001b[0;32m      2\u001b[0m \u001b[0mfile\u001b[0m \u001b[1;33m=\u001b[0m \u001b[1;34m'iris.jpg'\u001b[0m\u001b[1;33m\u001b[0m\u001b[0m\n\u001b[1;32m----> 3\u001b[1;33m \u001b[0mimg\u001b[0m \u001b[1;33m=\u001b[0m \u001b[0mcv\u001b[0m\u001b[1;33m.\u001b[0m\u001b[0mimread\u001b[0m\u001b[1;33m(\u001b[0m\u001b[0mdir\u001b[0m\u001b[1;33m+\u001b[0m\u001b[0mfile\u001b[0m\u001b[1;33m)\u001b[0m\u001b[1;33m\u001b[0m\u001b[0m\n\u001b[0m\u001b[0;32m      4\u001b[0m \u001b[1;33m\u001b[0m\u001b[0m\n\u001b[0;32m      5\u001b[0m \u001b[1;33m\u001b[0m\u001b[0m\n",
            "\u001b[1;31mNameError\u001b[0m: name 'cv' is not defined"
          ]
        }
      ]
    },
    {
      "metadata": {
        "pycharm": {},
        "id": "5Kx5TPKFRe6r",
        "colab_type": "code",
        "colab": {}
      },
      "cell_type": "code",
      "source": [
        ""
      ],
      "execution_count": 0,
      "outputs": []
    },
    {
      "metadata": {
        "id": "kAX9Hr8QRe6t",
        "colab_type": "text"
      },
      "cell_type": "markdown",
      "source": [
        "### Cam Access Template"
      ]
    },
    {
      "metadata": {
        "pycharm": {},
        "id": "92c83fovRe6v",
        "colab_type": "code",
        "outputId": "02703caa-a1e4-43d3-a130-b2756139f8b7",
        "colab": {
          "base_uri": "https://localhost:8080/",
          "height": 33
        }
      },
      "cell_type": "code",
      "source": [
        "cap = cv2.VideoCapture(0)\n",
        "\n",
        "while(True):\n",
        "  _,img = cap.read()\n",
        "\n",
        "  \n",
        "  \n",
        "  cv2.imshow(\"I\",img)\n",
        "  \n",
        "  if cv2.waitKey(1) & 0xFF == ord('q'):\n",
        "    print(img.shape)\n",
        "    break\n",
        "\n",
        "cap.release()\n",
        "cv2.destroyAllWindows()"
      ],
      "execution_count": 0,
      "outputs": [
        {
          "output_type": "stream",
          "text": [
            "(480, 640, 3)\n"
          ],
          "name": "stdout"
        }
      ]
    },
    {
      "metadata": {
        "id": "FltikTUGZlWW",
        "colab_type": "code",
        "colab": {}
      },
      "cell_type": "code",
      "source": [
        ""
      ],
      "execution_count": 0,
      "outputs": []
    },
    {
      "metadata": {
        "id": "sS2ti6E5Zp5V",
        "colab_type": "code",
        "colab": {}
      },
      "cell_type": "code",
      "source": [
        ""
      ],
      "execution_count": 0,
      "outputs": []
    },
    {
      "metadata": {
        "id": "RNDweia8Zw8d",
        "colab_type": "code",
        "colab": {}
      },
      "cell_type": "code",
      "source": [
        ""
      ],
      "execution_count": 0,
      "outputs": []
    }
  ]
}