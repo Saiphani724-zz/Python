{
  "nbformat": 4,
  "nbformat_minor": 0,
  "metadata": {
    "colab": {
      "name": "Opencv-Basics.ipynb",
      "version": "0.3.2",
      "provenance": [],
      "collapsed_sections": [
        "qWxRenx_Re5H"
      ],
      "toc_visible": true,
      "include_colab_link": true
    },
    "language_info": {
      "codemirror_mode": {
        "name": "ipython",
        "version": 3
      },
      "file_extension": ".py",
      "mimetype": "text/x-python",
      "name": "python",
      "nbconvert_exporter": "python",
      "pygments_lexer": "ipython3",
      "version": "3.6.5"
    },
    "kernelspec": {
      "display_name": "Python 3",
      "language": "python",
      "name": "python3"
    }
  },
  "cells": [
    {
      "cell_type": "markdown",
      "metadata": {
        "id": "view-in-github",
        "colab_type": "text"
      },
      "source": [
        "<a href=\"https://colab.research.google.com/github/Saiphani724/Python/blob/master/Opencv_Basics.ipynb\" target=\"_parent\"><img src=\"https://colab.research.google.com/assets/colab-badge.svg\" alt=\"Open In Colab\"/></a>"
      ]
    },
    {
      "metadata": {
        "pycharm": {},
        "id": "jvHwroPYRe48",
        "colab_type": "code",
        "colab": {}
      },
      "cell_type": "code",
      "source": [
        "import cv2\n",
        "import numpy as np\n",
        "import matplotlib.pyplot as plt"
      ],
      "execution_count": 0,
      "outputs": []
    },
    {
      "metadata": {
        "id": "Iq_2irLwRe5A",
        "colab_type": "text"
      },
      "cell_type": "markdown",
      "source": [
        "\n",
        "## Opening an Image"
      ]
    },
    {
      "metadata": {
        "pycharm": {},
        "id": "JkMgdHEwRe5B",
        "colab_type": "code",
        "colab": {}
      },
      "cell_type": "code",
      "source": [
        "img = cv2.imread('D:/Edu/Artificial-Intelligence/Computer-Vision/Datasets/iris.jpg')\n",
        "\n",
        "cv2.imshow('Iris',img)\n",
        "\n",
        "# Waits till any key is pressed\n",
        "cv2.waitKey(0)               \n",
        "cv2.destroyAllWindows()"
      ],
      "execution_count": 0,
      "outputs": []
    },
    {
      "metadata": {
        "pycharm": {},
        "id": "GTMY20hvRe5E",
        "colab_type": "code",
        "colab": {}
      },
      "cell_type": "code",
      "source": [
        "img = cv2.imread('D:/Edu/Artificial-Intelligence/Computer-Vision/Datasets/iris.jpg')\n",
        "cv2.imshow('Iris',img)\n",
        "\n",
        "\n",
        "# Waits for specified delay in waitkey function (in milli seconds) for any positive integer\n",
        "cv2.waitKey(1000)\n",
        "cv2.destroyAllWindows()"
      ],
      "execution_count": 0,
      "outputs": []
    },
    {
      "metadata": {
        "id": "ruC60B4q0ovw",
        "colab_type": "code",
        "colab": {}
      },
      "cell_type": "code",
      "source": [
        "Qdef show(img):\n",
        "  name = str(int(np.random.random()*27382732))\n",
        "  \n",
        "  cv2.imshow(name,img)\n",
        "  \n",
        "  cv2.waitKey(0)\n",
        "  cv2.destroyAllWindows()"
      ],
      "execution_count": 0,
      "outputs": []
    },
    {
      "metadata": {
        "id": "qWxRenx_Re5H",
        "colab_type": "text"
      },
      "cell_type": "markdown",
      "source": [
        "## Saving an Image"
      ]
    },
    {
      "metadata": {
        "pycharm": {},
        "id": "kL_M0W7jRe5H",
        "colab_type": "code",
        "outputId": "3fa73274-98f9-4ad6-a268-84171f4b6f54",
        "colab": {}
      },
      "cell_type": "code",
      "source": [
        "cv2.imwrite('D:/Edu/Artificial-Intelligence/Computer-Vision/Datasets/Output.png',img)"
      ],
      "execution_count": 0,
      "outputs": [
        {
          "output_type": "execute_result",
          "data": {
            "text/plain": [
              "True"
            ]
          },
          "metadata": {
            "tags": []
          },
          "execution_count": 8
        }
      ]
    },
    {
      "metadata": {
        "id": "efIATep1Re5M",
        "colab_type": "text"
      },
      "cell_type": "markdown",
      "source": [
        "## Conversions"
      ]
    },
    {
      "metadata": {
        "id": "ErC2AQLXyNg5",
        "colab_type": "text"
      },
      "cell_type": "markdown",
      "source": [
        "####  BGR to Gray-scale"
      ]
    },
    {
      "metadata": {
        "pycharm": {},
        "id": "DABpB69oRe5N",
        "colab_type": "code",
        "colab": {}
      },
      "cell_type": "code",
      "source": [
        "img = cv2.imread('D:/Edu/Artificial-Intelligence/Computer-Vision/Datasets/iris.jpg')\n",
        "\n",
        "#This converts a Color image to a gray scaled image\n",
        "gray_img = cv2.cvtColor(img,cv2.COLOR_BGR2GRAY)\n",
        "\n",
        "cv2.imshow('Gray Scaled Image',gray_img)\n",
        "\n",
        "cv2.waitKey(0)\n",
        "cv2.destroyAllWindows()"
      ],
      "execution_count": 0,
      "outputs": []
    },
    {
      "metadata": {
        "pycharm": {},
        "id": "Z7tX_dtIRe5S",
        "colab_type": "code",
        "colab": {}
      },
      "cell_type": "code",
      "source": [
        "# This reads the iamge as a gray-scaled image\n",
        "img_read_as_gray = cv2.imread('D:/Edu/Artificial-Intelligence/Computer-Vision/Datasets/iris.jpg',0)\n",
        "cv2.imshow('Gray Scaled Image',img_read_as_gray)\n",
        "\n",
        "cv2.waitKey(0)\n",
        "cv2.destroyAllWindows()"
      ],
      "execution_count": 0,
      "outputs": []
    },
    {
      "metadata": {
        "id": "pN--TpURRe5V",
        "colab_type": "text"
      },
      "cell_type": "markdown",
      "source": [
        "#### HSV Images"
      ]
    },
    {
      "metadata": {
        "id": "Od0yQUvjRe5W",
        "colab_type": "code",
        "colab": {}
      },
      "cell_type": "code",
      "source": [
        "img = cv2.imread('D:/Edu/Artificial-Intelligence/Computer-Vision/Datasets/iris.jpg')\n",
        "\n",
        "hsv_img = cv2.cvtColor(img,cv2.COLOR_BGR2HSV)\n",
        "cv2.imshow('HSV Image',hsv_img)\n",
        "\n",
        "cv2.waitKey(0)\n",
        "cv2.destroyAllWindows()"
      ],
      "execution_count": 0,
      "outputs": []
    },
    {
      "metadata": {
        "id": "snNBdqKtRe5Y",
        "colab_type": "text"
      },
      "cell_type": "markdown",
      "source": [
        "## Accessing RGB Values"
      ]
    },
    {
      "metadata": {
        "pycharm": {},
        "id": "HJlOrbl6Re5Z",
        "colab_type": "code",
        "outputId": "f5812131-f0f8-4236-988d-19369c978d99",
        "colab": {}
      },
      "cell_type": "code",
      "source": [
        "B , G , R = img[0][0]\n",
        "print('Blue = ',B)\n",
        "print('GREEN = ',G)\n",
        "print('Red = ',R)\n"
      ],
      "execution_count": 0,
      "outputs": [
        {
          "output_type": "stream",
          "text": [
            "Blue =  101\n",
            "GREEN =  153\n",
            "Red =  153\n"
          ],
          "name": "stdout"
        }
      ]
    },
    {
      "metadata": {
        "pycharm": {},
        "id": "m14K0K0PRe5c",
        "colab_type": "code",
        "outputId": "0108cdf6-7872-42b3-b229-ee34f825902e",
        "colab": {}
      },
      "cell_type": "code",
      "source": [
        "img_read_as_gray[0][0]"
      ],
      "execution_count": 0,
      "outputs": [
        {
          "output_type": "execute_result",
          "data": {
            "text/plain": [
              "147"
            ]
          },
          "metadata": {
            "tags": []
          },
          "execution_count": 14
        }
      ]
    },
    {
      "metadata": {
        "pycharm": {},
        "id": "y7_lyzcvRe5g",
        "colab_type": "code",
        "colab": {}
      },
      "cell_type": "code",
      "source": [
        ""
      ],
      "execution_count": 0,
      "outputs": []
    },
    {
      "metadata": {
        "pycharm": {},
        "id": "pWWE-Z7pRe5i",
        "colab_type": "text"
      },
      "cell_type": "markdown",
      "source": [
        "## Histograms"
      ]
    },
    {
      "metadata": {
        "pycharm": {},
        "id": "6hXS_qNzRe5j",
        "colab_type": "code",
        "colab": {}
      },
      "cell_type": "code",
      "source": [
        "path = 'D:/Edu/Artificial-Intelligence/Computer-Vision/Datasets/th.jpg'\n",
        "path1 = 'D:/Edu/Artificial-Intelligence/Computer-Vision/Datasets/img1.jpg'\n",
        "path2 = 'D:/Edu/Artificial-Intelligence/Computer-Vision/Datasets/img2.jpg'\n",
        "path3 = 'D:/Edu/Artificial-Intelligence/Computer-Vision/Datasets/images.jpg'\n",
        "img = cv2.imread(path3)\n",
        "img1 = cv2.imread(path1)\n",
        "img2 = cv2.imread(path2)\n",
        "show(img1)"
      ],
      "execution_count": 0,
      "outputs": []
    },
    {
      "metadata": {
        "pycharm": {},
        "id": "kvPq-oLyRe5m",
        "colab_type": "code",
        "outputId": "e43198c5-9eac-44a9-be1a-7c546dcf8319",
        "colab": {
          "base_uri": "https://localhost:8080/",
          "height": 269
        }
      },
      "cell_type": "code",
      "source": [
        "plt.hist(img1.ravel(),256,[0,256]) ; plt.show()\n",
        "plt.close()"
      ],
      "execution_count": 0,
      "outputs": [
        {
          "output_type": "display_data",
          "data": {
            "text/plain": [
              "<Figure size 432x288 with 1 Axes>"
            ],
            "image/png": "[encoded data removed]"
          },
          "metadata": {
            "tags": []
          }
        }
      ]
    },
    {
      "metadata": {
        "pycharm": {},
        "id": "SYo-xA59Re5p",
        "colab_type": "code",
        "colab": {}
      },
      "cell_type": "code",
      "source": [
        "cv2.imshow('IMG',img)\n",
        "\n",
        "\n",
        "cv2.waitKey(0)\n",
        "cv2.destroyAllWindows()"
      ],
      "execution_count": 0,
      "outputs": []
    },
    {
      "metadata": {
        "pycharm": {},
        "id": "q-su-kJbRe5s",
        "colab_type": "code",
        "outputId": "a7460d6b-e73a-4a68-8559-155699979d37",
        "colab": {
          "base_uri": "https://localhost:8080/",
          "height": 269
        }
      },
      "cell_type": "code",
      "source": [
        "colours = ('b','g','r')\n",
        "for i,col in enumerate(colours):\n",
        "    hist = cv2.calcHist([img],[i],None,[256],[0,256])\n",
        "    plt.plot(hist,color=col)\n",
        "    plt.xlim([0,256])\n",
        "plt.show()"
      ],
      "execution_count": 0,
      "outputs": [
        {
          "output_type": "display_data",
          "data": {
            "text/plain": [
              "<Figure size 432x288 with 1 Axes>"
            ],
            "image/png": "[encoded data removed]"
          },
          "metadata": {
            "tags": []
          }
        }
      ]
    },
    {
      "metadata": {
        "pycharm": {},
        "id": "jjBsrzRBRe5w",
        "colab_type": "text"
      },
      "cell_type": "markdown",
      "source": [
        "## Drawing and Bitwise Operations"
      ]
    },
    {
      "metadata": {
        "pycharm": {},
        "id": "-BVY8ef2Re5x",
        "colab_type": "code",
        "colab": {}
      },
      "cell_type": "code",
      "source": [
        "# Line\n",
        "screen = np.zeros((300,400,3))\n",
        "img = np.copy(screen)\n",
        "img = cv2.line(img,(100,100),(300,100),(0.5,0.2,0.75),20)\n",
        "\n",
        "\n",
        "cv2.imshow(\"My Image\",img)\n",
        "cv2.waitKey(0)\n",
        "cv2.destroyAllWindows()"
      ],
      "execution_count": 0,
      "outputs": []
    },
    {
      "metadata": {
        "pycharm": {},
        "id": "yazTBjJnRe51",
        "colab_type": "code",
        "colab": {}
      },
      "cell_type": "code",
      "source": [
        "# screen = np.zeros((300,400,3))\n",
        "img1 = np.copy(screen)\n",
        "img1 = cv2.circle(img1,(100,200),100,(0.5,1,0.5),-5)\n",
        "show(img1)"
      ],
      "execution_count": 0,
      "outputs": []
    },
    {
      "metadata": {
        "pycharm": {},
        "id": "QqWItAiuRe55",
        "colab_type": "code",
        "colab": {}
      },
      "cell_type": "code",
      "source": [
        "# screen = np.zeros((300,400,3))\n",
        "img2 = np.copy(screen)\n",
        "img2 = cv2.rectangle(img2,(100,50),(300,250),(0.9,0.9,0.1),-1)\n",
        "show(img2)"
      ],
      "execution_count": 0,
      "outputs": []
    },
    {
      "metadata": {
        "pycharm": {},
        "id": "xhyYkQKJRe5_",
        "colab_type": "code",
        "colab": {}
      },
      "cell_type": "code",
      "source": [
        "orr = cv2.bitwise_or(img1,img2)\n",
        "show(orr)\n",
        "\n",
        "andd = cv2.bitwise_and(img1,img2)\n",
        "show(andd)\n",
        "\n",
        "xor = cv2.bitwise_xor(img1,img2)\n",
        "show(xor)\n",
        "\n",
        "nott = cv2.bitwise_not(img1)\n",
        "show(nott)"
      ],
      "execution_count": 0,
      "outputs": []
    },
    {
      "metadata": {
        "colab_type": "text",
        "id": "5dizfuwLrwUd"
      },
      "cell_type": "markdown",
      "source": [
        "## Camera Access Template"
      ]
    },
    {
      "metadata": {
        "pycharm": {},
        "colab_type": "code",
        "id": "VReZk_AtrwUf",
        "colab": {}
      },
      "cell_type": "code",
      "source": [
        "cap = cv2.VideoCapture(0)\n",
        "\n",
        "while(True):\n",
        "  _,img = cap.read()\n",
        "\n",
        "\n",
        "  \n",
        "  cv2.imshow(\"I\",img)\n",
        "  \n",
        "  if cv2.waitKey(1) & 0xFF == ord('q'):\n",
        "    break\n",
        "\n",
        "cap.release()\n",
        "cv2.destroyAllWindows()"
      ],
      "execution_count": 0,
      "outputs": []
    },
    {
      "metadata": {
        "pycharm": {},
        "id": "9RqGcAAQRe6H",
        "colab_type": "text"
      },
      "cell_type": "markdown",
      "source": [
        "## Transformations"
      ]
    },
    {
      "metadata": {
        "pycharm": {},
        "id": "6rGqMbK3Re6H",
        "colab_type": "text"
      },
      "cell_type": "markdown",
      "source": [
        "### Rotations and Translation"
      ]
    },
    {
      "metadata": {
        "id": "Qm4oYf30Re6I",
        "colab_type": "code",
        "colab": {}
      },
      "cell_type": "code",
      "source": [
        "h,w = img.shape[:2]\n",
        "img = cv2.resize(img,(2*h,h))\n",
        "\n",
        "cv2.imshow('My Image',img)\n",
        "cv2.waitKey(0)\n",
        "cv2.destroyAllWindows()"
      ],
      "execution_count": 0,
      "outputs": []
    },
    {
      "metadata": {
        "pycharm": {},
        "id": "iTatEtuRRe6K",
        "colab_type": "code",
        "colab": {}
      },
      "cell_type": "code",
      "source": [
        "h,w = img.shape[:2]\n",
        "\n",
        "trans = np.array([[1,0,h],[0,1,0]],dtype=np.float32)\n",
        "trans_img = cv2.warpAffine(img,trans,(w+2*h,2*h))\n",
        "# cv2.warpAffine(img,matrix,(width of new image,height of new image))\n",
        "\n",
        "mat = cv2.getRotationMatrix2D((h,0),270,1)\n",
        "# cv2.getRotationMatrix2D((x-center,y-center),angle,scale)\n",
        "rot_img =cv2.warpAffine(trans_img,mat,(h+w+h,2*h)) \n",
        "\n",
        "\n",
        "mat1 = cv2.getRotationMatrix2D((h+w,0),90,1)\n",
        "rot_img1 =cv2.warpAffine(trans_img,mat1,(h+w+h,2*h)) \n",
        "\n",
        "# rot_img[:h,:,:] = img\n",
        "# cv2.imshow('img',img)\n",
        "\n",
        "mat2 = cv2.getRotationMatrix2D((h+w/2,h),180,1)\n",
        "rot_img2 = cv2.warpAffine(trans_img,mat2,(h+w+h,2*h))\n",
        "\n",
        "\n",
        "ans = np.copy(rot_img)\n",
        "ans[:,w+h:,] = rot_img1[:,w+h:,]\n",
        "ans[:h,h:h+w,:] = trans_img[:h,h:h+w,:]\n",
        "ans[h:,h:h+w,:] = rot_img2[h:,h:h+w,:]\n",
        "\n",
        "\n",
        "cv2.imshow('img',ans)\n",
        "cv2.waitKey(0)\n",
        "cv2.destroyAllWindows()"
      ],
      "execution_count": 0,
      "outputs": []
    },
    {
      "metadata": {
        "pycharm": {},
        "id": "gUgwTtcDRe6m",
        "colab_type": "text"
      },
      "cell_type": "markdown",
      "source": [
        "### Blur"
      ]
    },
    {
      "metadata": {
        "pycharm": {},
        "id": "Um_axUSZRe6n",
        "colab_type": "code",
        "colab": {}
      },
      "cell_type": "code",
      "source": [
        "path = 'D:/Edu/Artificial-Intelligence/Computer-Vision/Datasets/iris.jpg'\n",
        "org = cv2.imread(path)\n",
        "\n",
        "\n",
        "\n",
        "blur1 = cv2.blur(org,(5,5))\n",
        "blur2 = cv2.GaussianBlur(org,(5,5),0)\n",
        "blur3 = cv2.medianBlur(org,5)\n",
        "blur4 = cv2.bilateralFilter(org,9,75,75)\n",
        "\n",
        "img = np.concatenate((org,blur1),axis=1)\n",
        "img = np.concatenate((img,blur2),axis=1)\n",
        "img = np.concatenate((img,blur3),axis=1)\n",
        "img = np.concatenate((img,blur4),axis=1)\n",
        "\n",
        "show(org)\n",
        "show(img)"
      ],
      "execution_count": 0,
      "outputs": []
    },
    {
      "metadata": {
        "pycharm": {},
        "id": "4PFDFPoXRe6o",
        "colab_type": "code",
        "colab": {}
      },
      "cell_type": "code",
      "source": [
        "path = 'D:/Edu/Artificial-Intelligence/Computer-Vision/Datasets/iris.jpg'\n",
        "org = cv2.imread(path)\n",
        "\n",
        "blur1 = cv2.fastNlMeansDenoisingColored(org,6,6,7,21)\n",
        "blur2 = cv2.fastNlMeansDenoising(org,6,6,7,21)\n",
        "\n",
        "img = np.concatenate((org,blur1),axis=1)\n",
        "img = np.concatenate((img,blur2),axis=1)\n",
        "\n",
        "show(org)\n",
        "show(img)"
      ],
      "execution_count": 0,
      "outputs": []
    },
    {
      "metadata": {
        "id": "tCA3XebRzzko",
        "colab_type": "code",
        "colab": {}
      },
      "cell_type": "code",
      "source": [
        ""
      ],
      "execution_count": 0,
      "outputs": []
    },
    {
      "metadata": {
        "pycharm": {},
        "id": "5Kx5TPKFRe6r",
        "colab_type": "code",
        "colab": {}
      },
      "cell_type": "code",
      "source": [
        "# Beautify Effects\n",
        "cap = cv2.VideoCapture(0)\n",
        "\n",
        "while(True):\n",
        "  _,org = cap.read()\n",
        "  \n",
        "#   blur1 = cv2.fastNlMeansDenoisingColored(org,6,6,7,21)\n",
        "  blur2 = cv2.fastNlMeansDenoising(org,6,6,7,21)\n",
        "\n",
        "  img = np.concatenate((org,blur2),axis=1)\n",
        "#   img = np.concatenate((img,blur2),axis=1)\n",
        "\n",
        "  cv2.imshow(\"I\",img)\n",
        "  \n",
        "  if cv2.waitKey(1) & 0xFF == ord('q'):\n",
        "    break\n",
        "\n",
        "cap.release()\n",
        "cv2.destroyAllWindows()"
      ],
      "execution_count": 0,
      "outputs": []
    },
    {
      "metadata": {
        "id": "x2VCLZ0ZypRo",
        "colab_type": "code",
        "colab": {}
      },
      "cell_type": "code",
      "source": [
        "cap.release()\n",
        "cv2.destroyAllWindows()"
      ],
      "execution_count": 0,
      "outputs": []
    },
    {
      "metadata": {
        "id": "_aYXZUPy6n5I",
        "colab_type": "text"
      },
      "cell_type": "markdown",
      "source": [
        "### Sharpening"
      ]
    },
    {
      "metadata": {
        "id": "AzDi6XUR6nlM",
        "colab_type": "code",
        "outputId": "acfb4a45-359a-41b5-d264-00b8dd5e975d",
        "colab": {
          "base_uri": "https://localhost:8080/",
          "height": 67
        }
      },
      "cell_type": "code",
      "source": [
        "path = 'D:/Edu/Artificial-Intelligence/Computer-Vision/Datasets/iris.jpg'\n",
        "org = cv2.imread(path)\n",
        "\n",
        "mat = np.ones((3,3),dtype=int)*-1\n",
        "mat[1][1] = 9\n",
        "\n",
        "print(mat)\n",
        "\n",
        "img = cv2.filter2D(org,-1,mat)\n",
        "\n",
        "show(org)\n",
        "show(img)"
      ],
      "execution_count": 0,
      "outputs": [
        {
          "output_type": "stream",
          "text": [
            "[[-1 -1 -1]\n",
            " [-1  9 -1]\n",
            " [-1 -1 -1]]\n"
          ],
          "name": "stdout"
        }
      ]
    },
    {
      "metadata": {
        "pycharm": {},
        "id": "GiGo3vOYRe6j",
        "colab_type": "text"
      },
      "cell_type": "markdown",
      "source": [
        "### Thresholding"
      ]
    },
    {
      "metadata": {
        "pycharm": {},
        "id": "G1GAde1-Re6j",
        "colab_type": "code",
        "colab": {}
      },
      "cell_type": "code",
      "source": [
        "path = 'D:/Edu/Artificial-Intelligence/Computer-Vision/Datasets/iris.jpg'\n",
        "org = cv2.imread(path)\n",
        "\n",
        "\n",
        "# img = cv.imread(dir1+' ('+str(i)+').JPG',0)\n",
        "img = org\n",
        "thres_val = 60\n",
        "(T_value,img_th1) = cv2.threshold(img,thres_val,255,cv2.THRESH_BINARY)\n",
        "\n",
        "(T_value,img_th2) = cv2.threshold(img,thres_val,255,cv2.THRESH_BINARY_INV)\n",
        "\n",
        "(T_value,img_th3) = cv2.threshold(img,thres_val,255,cv2.THRESH_TOZERO)\n",
        "\n",
        "(T_value,img_th4) = cv2.threshold(img,thres_val,255,cv2.THRESH_TOZERO_INV)\n",
        "\n",
        "\n",
        "cv2.imshow('THRESH_BINARY',img_th1)\n",
        "cv2.imshow('THRESH_BINARY_INV',img_th2)\n",
        "cv2.imshow('THRESH_TOZERO',img_th3)\n",
        "cv2.imshow('THRESH_TOZERO_INV',img_th4)\n",
        "\n",
        "\n",
        "\n",
        "cv2.waitKey(0)\n",
        "cv2.destroyAllWindows()"
      ],
      "execution_count": 0,
      "outputs": []
    },
    {
      "metadata": {
        "id": "NXHxfZDS-N0g",
        "colab_type": "code",
        "colab": {}
      },
      "cell_type": "code",
      "source": [
        "path = 'D:/Edu/Artificial-Intelligence/Computer-Vision/Datasets/iris.jpg'\n",
        "org = cv2.imread(path)\n",
        "\n",
        "\n",
        "# img = cv.imread(dir1+' ('+str(i)+').JPG',0)\n",
        "img = org\n",
        "thres_val = 60\n",
        "img = cv2.cvtColor(img,cv2.COLOR_BGR2GRAY)\n",
        "img_th1 = cv2.adaptiveThreshold(img,255,cv2.ADAPTIVE_THRESH_GAUSSIAN_C,cv2.THRESH_BINARY,3,5)\n",
        "\n",
        "img_th2 = cv2.adaptiveThreshold(img,255,cv2.ADAPTIVE_THRESH_MEAN_C,cv2.THRESH_BINARY,3,5)\n",
        "\n",
        "\n",
        "_,img_th3 = cv2.threshold(img,0,255,cv2.THRESH_BINARY_INV + cv2.THRESH_OTSU)\n",
        "\n",
        "\n",
        "\n",
        "\n",
        "cv2.imshow('ADAPTIVE_THRESH_GAUSSIAN_C',img_th1)\n",
        "cv2.imshow('ADAPTIVE_THRESH_MEAN_C',img_th2)\n",
        "cv2.imshow('THRESH_OTSU',img_th3)\n",
        "# cv2.imshow('THRESH_TOZERO',img_th3)\n",
        "\n",
        "\n",
        "\n",
        "cv2.waitKey(0)\n",
        "\n",
        "cv2.destroyAllWindows()"
      ],
      "execution_count": 0,
      "outputs": []
    },
    {
      "metadata": {
        "id": "3Ji0Ci_h-b4d",
        "colab_type": "text"
      },
      "cell_type": "markdown",
      "source": [
        "## Morphology"
      ]
    },
    {
      "metadata": {
        "id": "FQophedg-cJ7",
        "colab_type": "code",
        "colab": {}
      },
      "cell_type": "code",
      "source": [
        "# Images preview\n",
        "path = 'D:\\Edu\\Artificial-Intelligence\\Computer-Vision\\Datasets\\\\'\n",
        "for i in range(1,5):\n",
        "  file = path +'img (' + str(i) + ').png'\n",
        "  \n",
        "  img = cv2.imread(file)\n",
        "  img = cv2.resize(img,(690,510))\n",
        "  show(img)\n",
        "  "
      ],
      "execution_count": 0,
      "outputs": []
    },
    {
      "metadata": {
        "id": "MupwIvgoQKsb",
        "colab_type": "code",
        "colab": {}
      },
      "cell_type": "code",
      "source": [
        "# Dilation\n",
        "path = 'D:\\Edu\\Artificial-Intelligence\\Computer-Vision\\Datasets\\\\' + 'img (' + '1' + ').png'\n",
        "img = cv2.imread(path)\n",
        "img = cv2.resize(img,(690,510))\n",
        "\n",
        "kernel = np.ones((5,5))\n",
        "img = cv2.dilate(img,kernel,1)\n",
        "\n",
        "show(img)"
      ],
      "execution_count": 0,
      "outputs": []
    },
    {
      "metadata": {
        "id": "PeXewORFQkAI",
        "colab_type": "code",
        "colab": {}
      },
      "cell_type": "code",
      "source": [
        "# Erosion\n",
        "\n",
        "path = 'D:\\Edu\\Artificial-Intelligence\\Computer-Vision\\Datasets\\\\' + 'img (' + '3' + ').png'\n",
        "img = cv2.imread(path)\n",
        "img = cv2.resize(img,(690,510))\n",
        "\n",
        "kernel = np.ones((5,5))\n",
        "img = cv2.erode(img,kernel,1)\n",
        "show(img)"
      ],
      "execution_count": 0,
      "outputs": []
    },
    {
      "metadata": {
        "id": "HE0GUEokQ6H7",
        "colab_type": "code",
        "colab": {}
      },
      "cell_type": "code",
      "source": [
        "path = 'D:\\Edu\\Artificial-Intelligence\\Computer-Vision\\Datasets\\\\' + 'img (' + '3' + ').png'\n",
        "img = cv2.imread(path)\n",
        "img = cv2.resize(img,(690,510))\n",
        "\n",
        "kernel = np.ones((5,5))\n",
        "img = cv2.morphologyEx(img,cv2.MORPH_OPEN,kernel)\n",
        "show(img)"
      ],
      "execution_count": 0,
      "outputs": []
    },
    {
      "metadata": {
        "id": "tdvv-ZIDRoto",
        "colab_type": "code",
        "colab": {}
      },
      "cell_type": "code",
      "source": [
        "path = 'D:\\Edu\\Artificial-Intelligence\\Computer-Vision\\Datasets\\\\' + 'img (' + '1' + ').png'\n",
        "img = cv2.imread(path)\n",
        "img = cv2.resize(img,(690,510))\n",
        "\n",
        "kernel = np.ones((5,5))\n",
        "img = cv2.morphologyEx(img,cv2.MORPH_CLOSE,kernel)\n",
        "show(img)"
      ],
      "execution_count": 0,
      "outputs": []
    },
    {
      "metadata": {
        "colab_type": "code",
        "id": "69FlzoIPR0N2",
        "colab": {}
      },
      "cell_type": "code",
      "source": [
        "path = 'D:\\Edu\\Artificial-Intelligence\\Computer-Vision\\Datasets\\\\' + 'img (' + '1' + ').png'\n",
        "img = cv2.imread(path)\n",
        "img = cv2.resize(img,(690,510))\n",
        "\n",
        "\n",
        "kernel = np.ones((5,5))\n",
        "img1 = img\n",
        "for i in range(4):\n",
        "  \n",
        "  cv2.imshow('1',img1)\n",
        "  kernel = np.ones((i+3,i+3))\n",
        "  img1 = cv2.dilate(img1,kernel,1)\n",
        "  img1 = cv2.erode(img1,kernel,1)\n",
        "  \n",
        "  cv2.imshow('2',img1)\n",
        "\n",
        "  cv2.waitKey(0)\n",
        "  cv2.destroyAllWindows()"
      ],
      "execution_count": 0,
      "outputs": []
    },
    {
      "metadata": {
        "id": "ZeAHwGsXM5Hg",
        "colab_type": "code",
        "colab": {}
      },
      "cell_type": "code",
      "source": [
        "path = 'D:\\Edu\\Artificial-Intelligence\\Computer-Vision\\Datasets\\\\' + 'img (' + '2' + ').png'\n",
        "img = cv2.imread(path)\n",
        "img = cv2.resize(img,(690,510))\n",
        "\n",
        "\n",
        "kernel = np.ones((5,5))\n",
        "img1 = img\n",
        "for i in range(10):\n",
        "  \n",
        "  cv2.imshow('1',img1)\n",
        "  kernel = np.ones((i+3,i+3))\n",
        "  \n",
        "  img1 = cv2.erode(img1,kernel,1)\n",
        "  img1 = cv2.dilate(img1,kernel,1)\n",
        "  \n",
        "  cv2.imshow('2',img1)\n",
        "\n",
        "  cv2.waitKey(0)\n",
        "  cv2.destroyAllWindows()"
      ],
      "execution_count": 0,
      "outputs": []
    },
    {
      "metadata": {
        "id": "944LCuSlStLn",
        "colab_type": "code",
        "colab": {}
      },
      "cell_type": "code",
      "source": [
        ""
      ],
      "execution_count": 0,
      "outputs": []
    },
    {
      "metadata": {
        "id": "MF2cjAy0Ulrg",
        "colab_type": "text"
      },
      "cell_type": "markdown",
      "source": [
        "## Edge Detection"
      ]
    },
    {
      "metadata": {
        "id": "qUPp9dVATJHk",
        "colab_type": "code",
        "colab": {}
      },
      "cell_type": "code",
      "source": [
        "path = 'D:\\Edu\\Artificial-Intelligence\\Computer-Vision\\Datasets\\\\' + 'img (' + '2' + ').png'\n",
        "path = 'D:/Edu/Artificial-Intelligence/Computer-Vision/Datasets/iris.jpg'\n",
        "\n",
        "img = cv2.imread(path)\n",
        "# img = cv2.resize(img,(690,510))\n",
        "\n",
        "cv2.imshow('org',img)\n",
        "\n",
        "sobel_x = cv2.Sobel(img,cv2.CV_64F,0,1,5)\n",
        "cv2.imshow('sobel_x',sobel_x)\n",
        "sobel_y = cv2.Sobel(img,cv2.CV_64F,1,0,5)\n",
        "cv2.imshow('sobel_y',sobel_y)\n",
        "\n",
        "sobel1 = cv2.Sobel(img,cv2.CV_64F,1,1,5)\n",
        "cv2.imshow('sobel1',sobel1)\n",
        "\n",
        "sobel2 = cv2.bitwise_or(sobel_x,sobel_y)\n",
        "cv2.imshow('sobel2',sobel2)\n",
        "\n",
        "cv2.waitKey(0)\n",
        "\n",
        "img = cv2.erode(img,np.ones((8,8)),2)\n",
        "canny = cv2.Canny(img,250,510)\n",
        "cv2.imshow('canny',canny)\n",
        "\n",
        "canny = cv2.Canny(img,100,250)\n",
        "cv2.imshow('canny1',canny)\n",
        "\n",
        "lap = cv2.Laplacian(cv2.cvtColor(img,cv2.COLOR_BGR2GRAY),cv2.CV_64F)\n",
        "cv2.imshow('lap',lap)\n",
        "\n",
        "\n",
        "cv2.waitKey(0)\n",
        "cv2.destroyAllWindows()"
      ],
      "execution_count": 0,
      "outputs": []
    },
    {
      "metadata": {
        "id": "6tkAt6aBTJV1",
        "colab_type": "code",
        "colab": {}
      },
      "cell_type": "code",
      "source": [
        " cv2.destroyAllWindows()"
      ],
      "execution_count": 0,
      "outputs": []
    },
    {
      "metadata": {
        "id": "giLG4XQ4TJed",
        "colab_type": "code",
        "colab": {}
      },
      "cell_type": "code",
      "source": [
        ""
      ],
      "execution_count": 0,
      "outputs": []
    },
    {
      "metadata": {
        "id": "vXslzWm9Fbqp",
        "colab_type": "text"
      },
      "cell_type": "markdown",
      "source": [
        "## Live Sketch App"
      ]
    },
    {
      "metadata": {
        "id": "3E61NB7YFjAr",
        "colab_type": "code",
        "colab": {}
      },
      "cell_type": "code",
      "source": [
        "def sketch(img):\n",
        "  \n",
        "#   img = cv2.cvtColor(img,cv2.COLOR_BGR2GRAY)\n",
        "  \n",
        "  img = cv2.GaussianBlur(img,(9,9),0)\n",
        "  \n",
        "  img = cv2.Canny(img,0,10)\n",
        "  \n",
        "  img = cv2.morphologyEx(img,cv2.MORPH_CLOSE,np.ones((1,1)))\n",
        "  \n",
        "#   img = cv2.GaussianBlur(img,(7,7),0)\n",
        "#   img = cv2.morphologyEx(img,cv2.MORPH_CLOSE,np.ones((1,1)))\n",
        "  \n",
        "  \n",
        "\n",
        "  \n",
        "  \n",
        "#   img = cv2.Canny(img,10,70)\n",
        "  \n",
        "#   _,img = cv2.threshold(img,1,255,cv2.THRESH_BINARY)\n",
        "  img = cv2.bitwise_not(img)\n",
        "  \n",
        "  return img"
      ],
      "execution_count": 0,
      "outputs": []
    },
    {
      "metadata": {
        "id": "cd7asES3FeMV",
        "colab_type": "code",
        "colab": {}
      },
      "cell_type": "code",
      "source": [
        "cap = cv2.VideoCapture(0)\n",
        "\n",
        "while(True):\n",
        "  _,img = cap.read()\n",
        "  img = img[:,::-1]\n",
        "  img = sketch(img)\n",
        "  \n",
        "  cv2.imshow(\"I\",img)\n",
        "  \n",
        "  if cv2.waitKey(1) & 0xFF == ord('q'):\n",
        "    break\n",
        "\n",
        "cap.release()\n",
        "cv2.destroyAllWindows()"
      ],
      "execution_count": 0,
      "outputs": []
    },
    {
      "metadata": {
        "id": "R8GvtYlFFhHj",
        "colab_type": "code",
        "colab": {}
      },
      "cell_type": "code",
      "source": [
        "cap.release()\n",
        "cv2.destroyAllWindows()"
      ],
      "execution_count": 0,
      "outputs": []
    },
    {
      "metadata": {
        "id": "L5c3W0HZGUG6",
        "colab_type": "code",
        "colab": {}
      },
      "cell_type": "code",
      "source": [
        ""
      ],
      "execution_count": 0,
      "outputs": []
    },
    {
      "metadata": {
        "id": "X9VmUHkXh-9w",
        "colab_type": "text"
      },
      "cell_type": "markdown",
      "source": [
        "## Segmentation"
      ]
    },
    {
      "metadata": {
        "id": "OpXiK1_tGZWS",
        "colab_type": "code",
        "colab": {}
      },
      "cell_type": "code",
      "source": [
        "path = 'D:/Edu/Artificial-Intelligence/Computer-Vision/Datasets/iris.jpg'\n",
        "\n",
        "img2 = np.copy(screen)\n",
        "img = np.array(img2,dtype=np.uint8)\n",
        "img = cv2.rectangle(img,(100,50),(300,250),(155,55,125),-1)\n",
        "img = cv2.rectangle(img,(10,5),(30,25),(155,55,125),-1)\n",
        "\n",
        "img = cv2.imread(path)\n",
        "org = np.copy(img)\n",
        "\n",
        "img = cv2.cvtColor(img,cv2.COLOR_BGR2GRAY)\n",
        "\n",
        "\n",
        "img = cv2.Canny(img,30,200)\n",
        "\n",
        "\n",
        " \n",
        "contours = cv2.findContours(img,cv2.RETR_EXTERNAL,cv2.CHAIN_APPROX_NONE)\n",
        "c,h = contours[0],contours[1]\n",
        "\n",
        "\n",
        "cv2.drawContours(org,h,-1,(0,255,0),1)\n",
        "\n",
        "show(org)"
      ],
      "execution_count": 0,
      "outputs": []
    },
    {
      "metadata": {
        "id": "3Y1T_MVFiGYc",
        "colab_type": "code",
        "outputId": "6fd970ed-9a1c-43de-e4ff-b9216a4b7d71",
        "colab": {
          "base_uri": "https://localhost:8080/",
          "height": 33
        }
      },
      "cell_type": "code",
      "source": [
        "len(h)"
      ],
      "execution_count": 0,
      "outputs": [
        {
          "output_type": "execute_result",
          "data": {
            "text/plain": [
              "2"
            ]
          },
          "metadata": {
            "tags": []
          },
          "execution_count": 916
        }
      ]
    },
    {
      "metadata": {
        "id": "nktF1QemihS-",
        "colab_type": "code",
        "colab": {}
      },
      "cell_type": "code",
      "source": [
        "img = np.zeros((300,400),dtype=np.uint8)\n",
        "img = cv2.rectangle(img,(100,50),(300,250),(255,255,255),-1)\n",
        "show(img)"
      ],
      "execution_count": 0,
      "outputs": []
    },
    {
      "metadata": {
        "id": "Q3nUZZzHok-g",
        "colab_type": "code",
        "colab": {}
      },
      "cell_type": "code",
      "source": [
        "def getCounters(img):\n",
        "  org = np.array(img,dtype=np.uint8)\n",
        "\n",
        "  img = cv2.cvtColor(img,cv2.COLOR_BGR2GRAY)\n",
        "\n",
        "\n",
        "  img = cv2.Canny(img,30,200)\n",
        "\n",
        "\n",
        "\n",
        "  contours = cv2.findContours(img,cv2.RETR_EXTERNAL,cv2.CHAIN_APPROX_NONE)\n",
        "  c,h = contours[0],contours[1]\n",
        "\n",
        "  org = np.zeros(org.shape)\n",
        "  cv2.drawContours(org,h,-1,(0,255,255),3)\n",
        "  print(h[98].shape)\n",
        "\n",
        "  return org"
      ],
      "execution_count": 0,
      "outputs": []
    },
    {
      "metadata": {
        "id": "aUu9wFTKppf6",
        "colab_type": "code",
        "colab": {}
      },
      "cell_type": "code",
      "source": [
        "cap = cv2.VideoCapture(0)\n",
        "\n",
        "while(True):\n",
        "  _,img = cap.read()\n",
        "  img = img[:,::-1]\n",
        "\n",
        "  img = sketch1(img)\n",
        "  \n",
        "  cv2.imshow(\"I\",img)\n",
        "  \n",
        "  if cv2.waitKey(1) & 0xFF == ord('q'):\n",
        "    break\n",
        "\n",
        "cap.release()\n",
        "cv2.destroyAllWindows()"
      ],
      "execution_count": 0,
      "outputs": []
    },
    {
      "metadata": {
        "id": "2teapLDowr7n",
        "colab_type": "code",
        "colab": {}
      },
      "cell_type": "code",
      "source": [
        "cap.release()\n",
        "cv2.destroyAllWindows()"
      ],
      "execution_count": 0,
      "outputs": []
    },
    {
      "metadata": {
        "id": "qvK3tWcGyuEi",
        "colab_type": "code",
        "colab": {}
      },
      "cell_type": "code",
      "source": [
        "path = 'D:\\Edu\\Artificial-Intelligence\\Computer-Vision\\Datasets\\cdc.jpg'\n",
        "img = cv2.imread(path)\n",
        "img = cv2.resize(img,(img.shape[1]//4,img.shape[0]//4))\n",
        "\n",
        "img = getCounters(img)\n",
        "show(img)"
      ],
      "execution_count": 0,
      "outputs": []
    },
    {
      "metadata": {
        "id": "tLNwFvZ-xZcF",
        "colab_type": "code",
        "colab": {}
      },
      "cell_type": "code",
      "source": [
        ""
      ],
      "execution_count": 0,
      "outputs": []
    },
    {
      "metadata": {
        "id": "baX0MWsoy9mM",
        "colab_type": "code",
        "colab": {}
      },
      "cell_type": "code",
      "source": [
        ""
      ],
      "execution_count": 0,
      "outputs": []
    },
    {
      "metadata": {
        "id": "p0ZBKkDnLKQx",
        "colab_type": "code",
        "colab": {}
      },
      "cell_type": "code",
      "source": [
        ""
      ],
      "execution_count": 0,
      "outputs": []
    },
    {
      "metadata": {
        "id": "29BdSFDgzAf7",
        "colab_type": "code",
        "colab": {}
      },
      "cell_type": "code",
      "source": [
        ""
      ],
      "execution_count": 0,
      "outputs": []
    },
    {
      "metadata": {
        "id": "p_mOXlF3zA13",
        "colab_type": "code",
        "colab": {}
      },
      "cell_type": "code",
      "source": [
        ""
      ],
      "execution_count": 0,
      "outputs": []
    },
    {
      "metadata": {
        "id": "6HN232wBzBAn",
        "colab_type": "code",
        "colab": {}
      },
      "cell_type": "code",
      "source": [
        ""
      ],
      "execution_count": 0,
      "outputs": []
    },
    {
      "metadata": {
        "id": "MopBNspRzBMP",
        "colab_type": "code",
        "colab": {}
      },
      "cell_type": "code",
      "source": [
        ""
      ],
      "execution_count": 0,
      "outputs": []
    }
  ]
}